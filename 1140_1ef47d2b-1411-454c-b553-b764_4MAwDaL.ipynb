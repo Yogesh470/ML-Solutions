{
 "cells": [
  {
   "cell_type": "code",
   "execution_count": 1,
   "id": "493d83cf",
   "metadata": {},
   "outputs": [],
   "source": [
    "import pandas as pd\n",
    "import numpy as np\n",
    "import ast\n",
    "pd.set_option(\"display.max_columns\", 200)"
   ]
  },
  {
   "cell_type": "code",
   "execution_count": null,
   "id": "84c426f2",
   "metadata": {},
   "outputs": [],
   "source": []
  },
  {
   "cell_type": "code",
   "execution_count": 2,
   "id": "a2e38b09",
   "metadata": {},
   "outputs": [],
   "source": [
    "train = pd.read_csv(\"../data/train_go05W65.csv\")"
   ]
  },
  {
   "cell_type": "code",
   "execution_count": 3,
   "id": "c56ea543",
   "metadata": {},
   "outputs": [],
   "source": [
    "test = pd.read_csv(\"../data/test_VkM91FT.csv\")"
   ]
  },
  {
   "cell_type": "code",
   "execution_count": 4,
   "id": "384a140a",
   "metadata": {},
   "outputs": [],
   "source": [
    "train = train.append(test, ignore_index=True)"
   ]
  },
  {
   "cell_type": "code",
   "execution_count": 5,
   "id": "86386fbb",
   "metadata": {},
   "outputs": [],
   "source": [
    "train.Product_Holding_B1 = train.Product_Holding_B1.apply(lambda x : ast.literal_eval(x))\n",
    "train.Product_Holding_B2 = train.Product_Holding_B2.apply(lambda x : ast.literal_eval(x) if pd.notnull(x) else None)"
   ]
  },
  {
   "cell_type": "code",
   "execution_count": 6,
   "id": "4ba3c42a",
   "metadata": {},
   "outputs": [],
   "source": [
    "train.Customer_ID = train.Customer_ID.apply(lambda x : x[2:]).astype(int)"
   ]
  },
  {
   "cell_type": "code",
   "execution_count": 7,
   "id": "af0d70a1",
   "metadata": {},
   "outputs": [
    {
     "data": {
      "text/plain": [
       "(58075, 9)"
      ]
     },
     "execution_count": 7,
     "metadata": {},
     "output_type": "execute_result"
    }
   ],
   "source": [
    "train.shape"
   ]
  },
  {
   "cell_type": "code",
   "execution_count": 8,
   "id": "ade48d88",
   "metadata": {},
   "outputs": [
    {
     "data": {
      "text/html": [
       "<div>\n",
       "<style scoped>\n",
       "    .dataframe tbody tr th:only-of-type {\n",
       "        vertical-align: middle;\n",
       "    }\n",
       "\n",
       "    .dataframe tbody tr th {\n",
       "        vertical-align: top;\n",
       "    }\n",
       "\n",
       "    .dataframe thead th {\n",
       "        text-align: right;\n",
       "    }\n",
       "</style>\n",
       "<table border=\"1\" class=\"dataframe\">\n",
       "  <thead>\n",
       "    <tr style=\"text-align: right;\">\n",
       "      <th></th>\n",
       "      <th>Customer_ID</th>\n",
       "      <th>Gender</th>\n",
       "      <th>Age</th>\n",
       "      <th>Vintage</th>\n",
       "      <th>Is_Active</th>\n",
       "      <th>City_Category</th>\n",
       "      <th>Customer_Category</th>\n",
       "      <th>Product_Holding_B1</th>\n",
       "      <th>Product_Holding_B2</th>\n",
       "    </tr>\n",
       "  </thead>\n",
       "  <tbody>\n",
       "    <tr>\n",
       "      <th>0</th>\n",
       "      <td>264719</td>\n",
       "      <td>Male</td>\n",
       "      <td>41</td>\n",
       "      <td>14</td>\n",
       "      <td>0</td>\n",
       "      <td>C1</td>\n",
       "      <td>S3</td>\n",
       "      <td>[P16]</td>\n",
       "      <td>[P8]</td>\n",
       "    </tr>\n",
       "    <tr>\n",
       "      <th>1</th>\n",
       "      <td>209679</td>\n",
       "      <td>Female</td>\n",
       "      <td>47</td>\n",
       "      <td>14</td>\n",
       "      <td>1</td>\n",
       "      <td>C1</td>\n",
       "      <td>S2</td>\n",
       "      <td>[P13, P20]</td>\n",
       "      <td>[P3]</td>\n",
       "    </tr>\n",
       "  </tbody>\n",
       "</table>\n",
       "</div>"
      ],
      "text/plain": [
       "   Customer_ID  Gender  Age  Vintage  Is_Active City_Category  \\\n",
       "0       264719    Male   41       14          0            C1   \n",
       "1       209679  Female   47       14          1            C1   \n",
       "\n",
       "  Customer_Category Product_Holding_B1 Product_Holding_B2  \n",
       "0                S3              [P16]               [P8]  \n",
       "1                S2         [P13, P20]               [P3]  "
      ]
     },
     "execution_count": 8,
     "metadata": {},
     "output_type": "execute_result"
    }
   ],
   "source": [
    "train.head(2)"
   ]
  },
  {
   "cell_type": "code",
   "execution_count": 9,
   "id": "a912fb00",
   "metadata": {},
   "outputs": [
    {
     "data": {
      "text/html": [
       "<div>\n",
       "<style scoped>\n",
       "    .dataframe tbody tr th:only-of-type {\n",
       "        vertical-align: middle;\n",
       "    }\n",
       "\n",
       "    .dataframe tbody tr th {\n",
       "        vertical-align: top;\n",
       "    }\n",
       "\n",
       "    .dataframe thead th {\n",
       "        text-align: right;\n",
       "    }\n",
       "</style>\n",
       "<table border=\"1\" class=\"dataframe\">\n",
       "  <thead>\n",
       "    <tr style=\"text-align: right;\">\n",
       "      <th></th>\n",
       "      <th>Customer_ID</th>\n",
       "      <th>Gender</th>\n",
       "      <th>Age</th>\n",
       "      <th>Vintage</th>\n",
       "      <th>Is_Active</th>\n",
       "      <th>City_Category</th>\n",
       "      <th>Customer_Category</th>\n",
       "      <th>Product_Holding_B1</th>\n",
       "    </tr>\n",
       "  </thead>\n",
       "  <tbody>\n",
       "    <tr>\n",
       "      <th>0</th>\n",
       "      <td>CC372708</td>\n",
       "      <td>Female</td>\n",
       "      <td>31</td>\n",
       "      <td>31</td>\n",
       "      <td>0</td>\n",
       "      <td>C2</td>\n",
       "      <td>S3</td>\n",
       "      <td>['P12', 'P13']</td>\n",
       "    </tr>\n",
       "    <tr>\n",
       "      <th>1</th>\n",
       "      <td>CC216072</td>\n",
       "      <td>Male</td>\n",
       "      <td>28</td>\n",
       "      <td>37</td>\n",
       "      <td>1</td>\n",
       "      <td>C1</td>\n",
       "      <td>S2</td>\n",
       "      <td>['P12', 'P13']</td>\n",
       "    </tr>\n",
       "    <tr>\n",
       "      <th>2</th>\n",
       "      <td>CC387629</td>\n",
       "      <td>Male</td>\n",
       "      <td>31</td>\n",
       "      <td>12</td>\n",
       "      <td>0</td>\n",
       "      <td>C2</td>\n",
       "      <td>S3</td>\n",
       "      <td>['P20']</td>\n",
       "    </tr>\n",
       "    <tr>\n",
       "      <th>3</th>\n",
       "      <td>CC389228</td>\n",
       "      <td>Female</td>\n",
       "      <td>55</td>\n",
       "      <td>11</td>\n",
       "      <td>0</td>\n",
       "      <td>C2</td>\n",
       "      <td>S2</td>\n",
       "      <td>['P13', 'P21']</td>\n",
       "    </tr>\n",
       "    <tr>\n",
       "      <th>4</th>\n",
       "      <td>CC394445</td>\n",
       "      <td>Male</td>\n",
       "      <td>51</td>\n",
       "      <td>49</td>\n",
       "      <td>1</td>\n",
       "      <td>C2</td>\n",
       "      <td>S1</td>\n",
       "      <td>['P13']</td>\n",
       "    </tr>\n",
       "  </tbody>\n",
       "</table>\n",
       "</div>"
      ],
      "text/plain": [
       "  Customer_ID  Gender  Age  Vintage  Is_Active City_Category  \\\n",
       "0    CC372708  Female   31       31          0            C2   \n",
       "1    CC216072    Male   28       37          1            C1   \n",
       "2    CC387629    Male   31       12          0            C2   \n",
       "3    CC389228  Female   55       11          0            C2   \n",
       "4    CC394445    Male   51       49          1            C2   \n",
       "\n",
       "  Customer_Category Product_Holding_B1  \n",
       "0                S3     ['P12', 'P13']  \n",
       "1                S2     ['P12', 'P13']  \n",
       "2                S3            ['P20']  \n",
       "3                S2     ['P13', 'P21']  \n",
       "4                S1            ['P13']  "
      ]
     },
     "execution_count": 9,
     "metadata": {},
     "output_type": "execute_result"
    }
   ],
   "source": [
    "test.head(5)"
   ]
  },
  {
   "cell_type": "code",
   "execution_count": null,
   "id": "26436b51",
   "metadata": {},
   "outputs": [],
   "source": []
  },
  {
   "cell_type": "code",
   "execution_count": null,
   "id": "96cdcceb",
   "metadata": {},
   "outputs": [],
   "source": []
  },
  {
   "cell_type": "code",
   "execution_count": null,
   "id": "8bde8cce",
   "metadata": {},
   "outputs": [],
   "source": []
  },
  {
   "cell_type": "code",
   "execution_count": 10,
   "id": "3294de61",
   "metadata": {},
   "outputs": [],
   "source": [
    "# create bucket from customer id, and find trending products in that bucket\n",
    "# here bucket will specify a time period"
   ]
  },
  {
   "cell_type": "code",
   "execution_count": 11,
   "id": "4071275c",
   "metadata": {},
   "outputs": [],
   "source": [
    "train[\"Customer_ID_bucket\"] = train.Customer_ID.apply(lambda x : round(x/1000))"
   ]
  },
  {
   "cell_type": "code",
   "execution_count": 12,
   "id": "b590d18c",
   "metadata": {},
   "outputs": [],
   "source": [
    "customer_popularity = train.explode(\"Product_Holding_B1\").groupby(train['Customer_ID_bucket']).apply(lambda x : \n",
    "            x[\"Product_Holding_B1\"].value_counts().nlargest(5)).reset_index().groupby(\n",
    "    [\"Customer_ID_bucket\"])[\"level_1\"].apply(list).reset_index()"
   ]
  },
  {
   "cell_type": "code",
   "execution_count": 13,
   "id": "0a5633fe",
   "metadata": {},
   "outputs": [],
   "source": [
    "customer_popularity = customer_popularity.rename(columns = {\"level_1\" : \"customer_bucket_popular_products\"})"
   ]
  },
  {
   "cell_type": "code",
   "execution_count": 14,
   "id": "b723e275",
   "metadata": {},
   "outputs": [
    {
     "data": {
      "text/html": [
       "<div>\n",
       "<style scoped>\n",
       "    .dataframe tbody tr th:only-of-type {\n",
       "        vertical-align: middle;\n",
       "    }\n",
       "\n",
       "    .dataframe tbody tr th {\n",
       "        vertical-align: top;\n",
       "    }\n",
       "\n",
       "    .dataframe thead th {\n",
       "        text-align: right;\n",
       "    }\n",
       "</style>\n",
       "<table border=\"1\" class=\"dataframe\">\n",
       "  <thead>\n",
       "    <tr style=\"text-align: right;\">\n",
       "      <th></th>\n",
       "      <th>Customer_ID_bucket</th>\n",
       "      <th>customer_bucket_popular_products</th>\n",
       "    </tr>\n",
       "  </thead>\n",
       "  <tbody>\n",
       "    <tr>\n",
       "      <th>0</th>\n",
       "      <td>199</td>\n",
       "      <td>[P13, P12, P17, P20, P21]</td>\n",
       "    </tr>\n",
       "    <tr>\n",
       "      <th>1</th>\n",
       "      <td>200</td>\n",
       "      <td>[P13, P12, P17, P21, P20]</td>\n",
       "    </tr>\n",
       "  </tbody>\n",
       "</table>\n",
       "</div>"
      ],
      "text/plain": [
       "   Customer_ID_bucket customer_bucket_popular_products\n",
       "0                 199        [P13, P12, P17, P20, P21]\n",
       "1                 200        [P13, P12, P17, P21, P20]"
      ]
     },
     "execution_count": 14,
     "metadata": {},
     "output_type": "execute_result"
    }
   ],
   "source": [
    "customer_popularity.head(2)"
   ]
  },
  {
   "cell_type": "code",
   "execution_count": null,
   "id": "aab1ec38",
   "metadata": {},
   "outputs": [],
   "source": []
  },
  {
   "cell_type": "code",
   "execution_count": 15,
   "id": "af7c1410",
   "metadata": {},
   "outputs": [],
   "source": [
    "train = train.merge(customer_popularity, on=[\"Customer_ID_bucket\"])"
   ]
  },
  {
   "cell_type": "code",
   "execution_count": 16,
   "id": "d4fd05ef",
   "metadata": {},
   "outputs": [
    {
     "data": {
      "text/html": [
       "<div>\n",
       "<style scoped>\n",
       "    .dataframe tbody tr th:only-of-type {\n",
       "        vertical-align: middle;\n",
       "    }\n",
       "\n",
       "    .dataframe tbody tr th {\n",
       "        vertical-align: top;\n",
       "    }\n",
       "\n",
       "    .dataframe thead th {\n",
       "        text-align: right;\n",
       "    }\n",
       "</style>\n",
       "<table border=\"1\" class=\"dataframe\">\n",
       "  <thead>\n",
       "    <tr style=\"text-align: right;\">\n",
       "      <th></th>\n",
       "      <th>Customer_ID</th>\n",
       "      <th>Gender</th>\n",
       "      <th>Age</th>\n",
       "      <th>Vintage</th>\n",
       "      <th>Is_Active</th>\n",
       "      <th>City_Category</th>\n",
       "      <th>Customer_Category</th>\n",
       "      <th>Product_Holding_B1</th>\n",
       "      <th>Product_Holding_B2</th>\n",
       "      <th>Customer_ID_bucket</th>\n",
       "      <th>customer_bucket_popular_products</th>\n",
       "    </tr>\n",
       "  </thead>\n",
       "  <tbody>\n",
       "    <tr>\n",
       "      <th>0</th>\n",
       "      <td>264719</td>\n",
       "      <td>Male</td>\n",
       "      <td>41</td>\n",
       "      <td>14</td>\n",
       "      <td>0</td>\n",
       "      <td>C1</td>\n",
       "      <td>S3</td>\n",
       "      <td>[P16]</td>\n",
       "      <td>[P8]</td>\n",
       "      <td>265</td>\n",
       "      <td>[P13, P16, P12, P21, P17]</td>\n",
       "    </tr>\n",
       "    <tr>\n",
       "      <th>1</th>\n",
       "      <td>264929</td>\n",
       "      <td>Male</td>\n",
       "      <td>35</td>\n",
       "      <td>15</td>\n",
       "      <td>0</td>\n",
       "      <td>C2</td>\n",
       "      <td>S1</td>\n",
       "      <td>[P16]</td>\n",
       "      <td>[P8]</td>\n",
       "      <td>265</td>\n",
       "      <td>[P13, P16, P12, P21, P17]</td>\n",
       "    </tr>\n",
       "    <tr>\n",
       "      <th>2</th>\n",
       "      <td>265293</td>\n",
       "      <td>Male</td>\n",
       "      <td>28</td>\n",
       "      <td>14</td>\n",
       "      <td>0</td>\n",
       "      <td>C2</td>\n",
       "      <td>S1</td>\n",
       "      <td>[P16]</td>\n",
       "      <td>[P8]</td>\n",
       "      <td>265</td>\n",
       "      <td>[P13, P16, P12, P21, P17]</td>\n",
       "    </tr>\n",
       "    <tr>\n",
       "      <th>3</th>\n",
       "      <td>264895</td>\n",
       "      <td>Male</td>\n",
       "      <td>40</td>\n",
       "      <td>18</td>\n",
       "      <td>0</td>\n",
       "      <td>C1</td>\n",
       "      <td>S2</td>\n",
       "      <td>[P12, P13, P17, P19, P21]</td>\n",
       "      <td>[P7, P8, P9, P10]</td>\n",
       "      <td>265</td>\n",
       "      <td>[P13, P16, P12, P21, P17]</td>\n",
       "    </tr>\n",
       "    <tr>\n",
       "      <th>4</th>\n",
       "      <td>265180</td>\n",
       "      <td>Male</td>\n",
       "      <td>37</td>\n",
       "      <td>16</td>\n",
       "      <td>0</td>\n",
       "      <td>C2</td>\n",
       "      <td>S3</td>\n",
       "      <td>[P16, P17, P19]</td>\n",
       "      <td>[P8, P12]</td>\n",
       "      <td>265</td>\n",
       "      <td>[P13, P16, P12, P21, P17]</td>\n",
       "    </tr>\n",
       "  </tbody>\n",
       "</table>\n",
       "</div>"
      ],
      "text/plain": [
       "   Customer_ID Gender  Age  Vintage  Is_Active City_Category  \\\n",
       "0       264719   Male   41       14          0            C1   \n",
       "1       264929   Male   35       15          0            C2   \n",
       "2       265293   Male   28       14          0            C2   \n",
       "3       264895   Male   40       18          0            C1   \n",
       "4       265180   Male   37       16          0            C2   \n",
       "\n",
       "  Customer_Category         Product_Holding_B1 Product_Holding_B2  \\\n",
       "0                S3                      [P16]               [P8]   \n",
       "1                S1                      [P16]               [P8]   \n",
       "2                S1                      [P16]               [P8]   \n",
       "3                S2  [P12, P13, P17, P19, P21]  [P7, P8, P9, P10]   \n",
       "4                S3            [P16, P17, P19]          [P8, P12]   \n",
       "\n",
       "   Customer_ID_bucket customer_bucket_popular_products  \n",
       "0                 265        [P13, P16, P12, P21, P17]  \n",
       "1                 265        [P13, P16, P12, P21, P17]  \n",
       "2                 265        [P13, P16, P12, P21, P17]  \n",
       "3                 265        [P13, P16, P12, P21, P17]  \n",
       "4                 265        [P13, P16, P12, P21, P17]  "
      ]
     },
     "execution_count": 16,
     "metadata": {},
     "output_type": "execute_result"
    }
   ],
   "source": [
    "train.head()"
   ]
  },
  {
   "cell_type": "code",
   "execution_count": null,
   "id": "c00ee7b2",
   "metadata": {},
   "outputs": [],
   "source": []
  },
  {
   "cell_type": "code",
   "execution_count": 17,
   "id": "1ab4b4df",
   "metadata": {},
   "outputs": [],
   "source": [
    "train.Gender = train.Gender.map({\"Male\" : 0, \"Female\":1})"
   ]
  },
  {
   "cell_type": "code",
   "execution_count": null,
   "id": "39c7edf0",
   "metadata": {},
   "outputs": [],
   "source": []
  },
  {
   "cell_type": "code",
   "execution_count": 18,
   "id": "eb0ab662",
   "metadata": {},
   "outputs": [],
   "source": [
    "# get dummies"
   ]
  },
  {
   "cell_type": "code",
   "execution_count": 19,
   "id": "c664c461",
   "metadata": {},
   "outputs": [],
   "source": [
    "df_product_holding_b1_dumies = pd.get_dummies(train.Product_Holding_B1.apply(pd.Series).stack()).sum(level=0)"
   ]
  },
  {
   "cell_type": "code",
   "execution_count": 20,
   "id": "6f52bd38",
   "metadata": {},
   "outputs": [],
   "source": [
    "df_customer_popular_products_dumies = pd.get_dummies(train.customer_bucket_popular_products.apply(pd.Series).stack()).sum(level=0)"
   ]
  },
  {
   "cell_type": "code",
   "execution_count": 21,
   "id": "ee1a8e3a",
   "metadata": {},
   "outputs": [],
   "source": [
    "df_product_holding_b1_dumies.columns = [\"product_holding_\" + x for x in df_product_holding_b1_dumies.columns]\n",
    "df_customer_popular_products_dumies.columns = [\"customer_holding_\" + x for x in df_customer_popular_products_dumies.columns]"
   ]
  },
  {
   "cell_type": "code",
   "execution_count": 22,
   "id": "57991fb3",
   "metadata": {},
   "outputs": [
    {
     "data": {
      "text/plain": [
       "(58075, 22)"
      ]
     },
     "execution_count": 22,
     "metadata": {},
     "output_type": "execute_result"
    }
   ],
   "source": [
    "df_product_holding_b1_dumies.shape"
   ]
  },
  {
   "cell_type": "code",
   "execution_count": 23,
   "id": "14c005ba",
   "metadata": {},
   "outputs": [
    {
     "data": {
      "text/html": [
       "<div>\n",
       "<style scoped>\n",
       "    .dataframe tbody tr th:only-of-type {\n",
       "        vertical-align: middle;\n",
       "    }\n",
       "\n",
       "    .dataframe tbody tr th {\n",
       "        vertical-align: top;\n",
       "    }\n",
       "\n",
       "    .dataframe thead th {\n",
       "        text-align: right;\n",
       "    }\n",
       "</style>\n",
       "<table border=\"1\" class=\"dataframe\">\n",
       "  <thead>\n",
       "    <tr style=\"text-align: right;\">\n",
       "      <th></th>\n",
       "      <th>product_holding_P00</th>\n",
       "      <th>product_holding_P1</th>\n",
       "      <th>product_holding_P10</th>\n",
       "      <th>product_holding_P11</th>\n",
       "      <th>product_holding_P12</th>\n",
       "      <th>product_holding_P13</th>\n",
       "      <th>product_holding_P14</th>\n",
       "      <th>product_holding_P15</th>\n",
       "      <th>product_holding_P16</th>\n",
       "      <th>product_holding_P17</th>\n",
       "      <th>product_holding_P18</th>\n",
       "      <th>product_holding_P19</th>\n",
       "      <th>product_holding_P2</th>\n",
       "      <th>product_holding_P20</th>\n",
       "      <th>product_holding_P21</th>\n",
       "      <th>product_holding_P3</th>\n",
       "      <th>product_holding_P4</th>\n",
       "      <th>product_holding_P5</th>\n",
       "      <th>product_holding_P6</th>\n",
       "      <th>product_holding_P7</th>\n",
       "      <th>product_holding_P8</th>\n",
       "      <th>product_holding_P9</th>\n",
       "    </tr>\n",
       "  </thead>\n",
       "  <tbody>\n",
       "    <tr>\n",
       "      <th>0</th>\n",
       "      <td>0</td>\n",
       "      <td>0</td>\n",
       "      <td>0</td>\n",
       "      <td>0</td>\n",
       "      <td>0</td>\n",
       "      <td>0</td>\n",
       "      <td>0</td>\n",
       "      <td>0</td>\n",
       "      <td>1</td>\n",
       "      <td>0</td>\n",
       "      <td>0</td>\n",
       "      <td>0</td>\n",
       "      <td>0</td>\n",
       "      <td>0</td>\n",
       "      <td>0</td>\n",
       "      <td>0</td>\n",
       "      <td>0</td>\n",
       "      <td>0</td>\n",
       "      <td>0</td>\n",
       "      <td>0</td>\n",
       "      <td>0</td>\n",
       "      <td>0</td>\n",
       "    </tr>\n",
       "    <tr>\n",
       "      <th>1</th>\n",
       "      <td>0</td>\n",
       "      <td>0</td>\n",
       "      <td>0</td>\n",
       "      <td>0</td>\n",
       "      <td>0</td>\n",
       "      <td>0</td>\n",
       "      <td>0</td>\n",
       "      <td>0</td>\n",
       "      <td>1</td>\n",
       "      <td>0</td>\n",
       "      <td>0</td>\n",
       "      <td>0</td>\n",
       "      <td>0</td>\n",
       "      <td>0</td>\n",
       "      <td>0</td>\n",
       "      <td>0</td>\n",
       "      <td>0</td>\n",
       "      <td>0</td>\n",
       "      <td>0</td>\n",
       "      <td>0</td>\n",
       "      <td>0</td>\n",
       "      <td>0</td>\n",
       "    </tr>\n",
       "  </tbody>\n",
       "</table>\n",
       "</div>"
      ],
      "text/plain": [
       "   product_holding_P00  product_holding_P1  product_holding_P10  \\\n",
       "0                    0                   0                    0   \n",
       "1                    0                   0                    0   \n",
       "\n",
       "   product_holding_P11  product_holding_P12  product_holding_P13  \\\n",
       "0                    0                    0                    0   \n",
       "1                    0                    0                    0   \n",
       "\n",
       "   product_holding_P14  product_holding_P15  product_holding_P16  \\\n",
       "0                    0                    0                    1   \n",
       "1                    0                    0                    1   \n",
       "\n",
       "   product_holding_P17  product_holding_P18  product_holding_P19  \\\n",
       "0                    0                    0                    0   \n",
       "1                    0                    0                    0   \n",
       "\n",
       "   product_holding_P2  product_holding_P20  product_holding_P21  \\\n",
       "0                   0                    0                    0   \n",
       "1                   0                    0                    0   \n",
       "\n",
       "   product_holding_P3  product_holding_P4  product_holding_P5  \\\n",
       "0                   0                   0                   0   \n",
       "1                   0                   0                   0   \n",
       "\n",
       "   product_holding_P6  product_holding_P7  product_holding_P8  \\\n",
       "0                   0                   0                   0   \n",
       "1                   0                   0                   0   \n",
       "\n",
       "   product_holding_P9  \n",
       "0                   0  \n",
       "1                   0  "
      ]
     },
     "execution_count": 23,
     "metadata": {},
     "output_type": "execute_result"
    }
   ],
   "source": [
    "df_product_holding_b1_dumies.head(2)"
   ]
  },
  {
   "cell_type": "code",
   "execution_count": 24,
   "id": "01d5f03b",
   "metadata": {},
   "outputs": [
    {
     "data": {
      "text/plain": [
       "(58075, 15)"
      ]
     },
     "execution_count": 24,
     "metadata": {},
     "output_type": "execute_result"
    }
   ],
   "source": [
    "df_customer_popular_products_dumies.shape"
   ]
  },
  {
   "cell_type": "code",
   "execution_count": 25,
   "id": "e3c6b980",
   "metadata": {},
   "outputs": [
    {
     "data": {
      "text/html": [
       "<div>\n",
       "<style scoped>\n",
       "    .dataframe tbody tr th:only-of-type {\n",
       "        vertical-align: middle;\n",
       "    }\n",
       "\n",
       "    .dataframe tbody tr th {\n",
       "        vertical-align: top;\n",
       "    }\n",
       "\n",
       "    .dataframe thead th {\n",
       "        text-align: right;\n",
       "    }\n",
       "</style>\n",
       "<table border=\"1\" class=\"dataframe\">\n",
       "  <thead>\n",
       "    <tr style=\"text-align: right;\">\n",
       "      <th></th>\n",
       "      <th>customer_holding_P00</th>\n",
       "      <th>customer_holding_P10</th>\n",
       "      <th>customer_holding_P11</th>\n",
       "      <th>customer_holding_P12</th>\n",
       "      <th>customer_holding_P13</th>\n",
       "      <th>customer_holding_P15</th>\n",
       "      <th>customer_holding_P16</th>\n",
       "      <th>customer_holding_P17</th>\n",
       "      <th>customer_holding_P18</th>\n",
       "      <th>customer_holding_P19</th>\n",
       "      <th>customer_holding_P2</th>\n",
       "      <th>customer_holding_P20</th>\n",
       "      <th>customer_holding_P21</th>\n",
       "      <th>customer_holding_P8</th>\n",
       "      <th>customer_holding_P9</th>\n",
       "    </tr>\n",
       "  </thead>\n",
       "  <tbody>\n",
       "    <tr>\n",
       "      <th>0</th>\n",
       "      <td>0</td>\n",
       "      <td>0</td>\n",
       "      <td>0</td>\n",
       "      <td>1</td>\n",
       "      <td>1</td>\n",
       "      <td>0</td>\n",
       "      <td>1</td>\n",
       "      <td>1</td>\n",
       "      <td>0</td>\n",
       "      <td>0</td>\n",
       "      <td>0</td>\n",
       "      <td>0</td>\n",
       "      <td>1</td>\n",
       "      <td>0</td>\n",
       "      <td>0</td>\n",
       "    </tr>\n",
       "    <tr>\n",
       "      <th>1</th>\n",
       "      <td>0</td>\n",
       "      <td>0</td>\n",
       "      <td>0</td>\n",
       "      <td>1</td>\n",
       "      <td>1</td>\n",
       "      <td>0</td>\n",
       "      <td>1</td>\n",
       "      <td>1</td>\n",
       "      <td>0</td>\n",
       "      <td>0</td>\n",
       "      <td>0</td>\n",
       "      <td>0</td>\n",
       "      <td>1</td>\n",
       "      <td>0</td>\n",
       "      <td>0</td>\n",
       "    </tr>\n",
       "  </tbody>\n",
       "</table>\n",
       "</div>"
      ],
      "text/plain": [
       "   customer_holding_P00  customer_holding_P10  customer_holding_P11  \\\n",
       "0                     0                     0                     0   \n",
       "1                     0                     0                     0   \n",
       "\n",
       "   customer_holding_P12  customer_holding_P13  customer_holding_P15  \\\n",
       "0                     1                     1                     0   \n",
       "1                     1                     1                     0   \n",
       "\n",
       "   customer_holding_P16  customer_holding_P17  customer_holding_P18  \\\n",
       "0                     1                     1                     0   \n",
       "1                     1                     1                     0   \n",
       "\n",
       "   customer_holding_P19  customer_holding_P2  customer_holding_P20  \\\n",
       "0                     0                    0                     0   \n",
       "1                     0                    0                     0   \n",
       "\n",
       "   customer_holding_P21  customer_holding_P8  customer_holding_P9  \n",
       "0                     1                    0                    0  \n",
       "1                     1                    0                    0  "
      ]
     },
     "execution_count": 25,
     "metadata": {},
     "output_type": "execute_result"
    }
   ],
   "source": [
    "df_customer_popular_products_dumies.head(2)"
   ]
  },
  {
   "cell_type": "code",
   "execution_count": null,
   "id": "50dc4e30",
   "metadata": {},
   "outputs": [],
   "source": []
  },
  {
   "cell_type": "code",
   "execution_count": null,
   "id": "94554bbd",
   "metadata": {},
   "outputs": [],
   "source": []
  },
  {
   "cell_type": "code",
   "execution_count": 26,
   "id": "aa026006",
   "metadata": {},
   "outputs": [],
   "source": [
    "train = pd.concat([train, df_product_holding_b1_dumies, df_customer_popular_products_dumies], axis=1)"
   ]
  },
  {
   "cell_type": "code",
   "execution_count": 27,
   "id": "06969f79",
   "metadata": {},
   "outputs": [
    {
     "data": {
      "text/plain": [
       "(58075, 48)"
      ]
     },
     "execution_count": 27,
     "metadata": {},
     "output_type": "execute_result"
    }
   ],
   "source": [
    "train.shape"
   ]
  },
  {
   "cell_type": "code",
   "execution_count": 28,
   "id": "4aec12d8",
   "metadata": {},
   "outputs": [
    {
     "data": {
      "text/html": [
       "<div>\n",
       "<style scoped>\n",
       "    .dataframe tbody tr th:only-of-type {\n",
       "        vertical-align: middle;\n",
       "    }\n",
       "\n",
       "    .dataframe tbody tr th {\n",
       "        vertical-align: top;\n",
       "    }\n",
       "\n",
       "    .dataframe thead th {\n",
       "        text-align: right;\n",
       "    }\n",
       "</style>\n",
       "<table border=\"1\" class=\"dataframe\">\n",
       "  <thead>\n",
       "    <tr style=\"text-align: right;\">\n",
       "      <th></th>\n",
       "      <th>Customer_ID</th>\n",
       "      <th>Gender</th>\n",
       "      <th>Age</th>\n",
       "      <th>Vintage</th>\n",
       "      <th>Is_Active</th>\n",
       "      <th>City_Category</th>\n",
       "      <th>Customer_Category</th>\n",
       "      <th>Product_Holding_B1</th>\n",
       "      <th>Product_Holding_B2</th>\n",
       "      <th>Customer_ID_bucket</th>\n",
       "      <th>customer_bucket_popular_products</th>\n",
       "      <th>product_holding_P00</th>\n",
       "      <th>product_holding_P1</th>\n",
       "      <th>product_holding_P10</th>\n",
       "      <th>product_holding_P11</th>\n",
       "      <th>product_holding_P12</th>\n",
       "      <th>product_holding_P13</th>\n",
       "      <th>product_holding_P14</th>\n",
       "      <th>product_holding_P15</th>\n",
       "      <th>product_holding_P16</th>\n",
       "      <th>product_holding_P17</th>\n",
       "      <th>product_holding_P18</th>\n",
       "      <th>product_holding_P19</th>\n",
       "      <th>product_holding_P2</th>\n",
       "      <th>product_holding_P20</th>\n",
       "      <th>product_holding_P21</th>\n",
       "      <th>product_holding_P3</th>\n",
       "      <th>product_holding_P4</th>\n",
       "      <th>product_holding_P5</th>\n",
       "      <th>product_holding_P6</th>\n",
       "      <th>product_holding_P7</th>\n",
       "      <th>product_holding_P8</th>\n",
       "      <th>product_holding_P9</th>\n",
       "      <th>customer_holding_P00</th>\n",
       "      <th>customer_holding_P10</th>\n",
       "      <th>customer_holding_P11</th>\n",
       "      <th>customer_holding_P12</th>\n",
       "      <th>customer_holding_P13</th>\n",
       "      <th>customer_holding_P15</th>\n",
       "      <th>customer_holding_P16</th>\n",
       "      <th>customer_holding_P17</th>\n",
       "      <th>customer_holding_P18</th>\n",
       "      <th>customer_holding_P19</th>\n",
       "      <th>customer_holding_P2</th>\n",
       "      <th>customer_holding_P20</th>\n",
       "      <th>customer_holding_P21</th>\n",
       "      <th>customer_holding_P8</th>\n",
       "      <th>customer_holding_P9</th>\n",
       "    </tr>\n",
       "  </thead>\n",
       "  <tbody>\n",
       "    <tr>\n",
       "      <th>0</th>\n",
       "      <td>264719</td>\n",
       "      <td>0</td>\n",
       "      <td>41</td>\n",
       "      <td>14</td>\n",
       "      <td>0</td>\n",
       "      <td>C1</td>\n",
       "      <td>S3</td>\n",
       "      <td>[P16]</td>\n",
       "      <td>[P8]</td>\n",
       "      <td>265</td>\n",
       "      <td>[P13, P16, P12, P21, P17]</td>\n",
       "      <td>0</td>\n",
       "      <td>0</td>\n",
       "      <td>0</td>\n",
       "      <td>0</td>\n",
       "      <td>0</td>\n",
       "      <td>0</td>\n",
       "      <td>0</td>\n",
       "      <td>0</td>\n",
       "      <td>1</td>\n",
       "      <td>0</td>\n",
       "      <td>0</td>\n",
       "      <td>0</td>\n",
       "      <td>0</td>\n",
       "      <td>0</td>\n",
       "      <td>0</td>\n",
       "      <td>0</td>\n",
       "      <td>0</td>\n",
       "      <td>0</td>\n",
       "      <td>0</td>\n",
       "      <td>0</td>\n",
       "      <td>0</td>\n",
       "      <td>0</td>\n",
       "      <td>0</td>\n",
       "      <td>0</td>\n",
       "      <td>0</td>\n",
       "      <td>1</td>\n",
       "      <td>1</td>\n",
       "      <td>0</td>\n",
       "      <td>1</td>\n",
       "      <td>1</td>\n",
       "      <td>0</td>\n",
       "      <td>0</td>\n",
       "      <td>0</td>\n",
       "      <td>0</td>\n",
       "      <td>1</td>\n",
       "      <td>0</td>\n",
       "      <td>0</td>\n",
       "    </tr>\n",
       "    <tr>\n",
       "      <th>1</th>\n",
       "      <td>264929</td>\n",
       "      <td>0</td>\n",
       "      <td>35</td>\n",
       "      <td>15</td>\n",
       "      <td>0</td>\n",
       "      <td>C2</td>\n",
       "      <td>S1</td>\n",
       "      <td>[P16]</td>\n",
       "      <td>[P8]</td>\n",
       "      <td>265</td>\n",
       "      <td>[P13, P16, P12, P21, P17]</td>\n",
       "      <td>0</td>\n",
       "      <td>0</td>\n",
       "      <td>0</td>\n",
       "      <td>0</td>\n",
       "      <td>0</td>\n",
       "      <td>0</td>\n",
       "      <td>0</td>\n",
       "      <td>0</td>\n",
       "      <td>1</td>\n",
       "      <td>0</td>\n",
       "      <td>0</td>\n",
       "      <td>0</td>\n",
       "      <td>0</td>\n",
       "      <td>0</td>\n",
       "      <td>0</td>\n",
       "      <td>0</td>\n",
       "      <td>0</td>\n",
       "      <td>0</td>\n",
       "      <td>0</td>\n",
       "      <td>0</td>\n",
       "      <td>0</td>\n",
       "      <td>0</td>\n",
       "      <td>0</td>\n",
       "      <td>0</td>\n",
       "      <td>0</td>\n",
       "      <td>1</td>\n",
       "      <td>1</td>\n",
       "      <td>0</td>\n",
       "      <td>1</td>\n",
       "      <td>1</td>\n",
       "      <td>0</td>\n",
       "      <td>0</td>\n",
       "      <td>0</td>\n",
       "      <td>0</td>\n",
       "      <td>1</td>\n",
       "      <td>0</td>\n",
       "      <td>0</td>\n",
       "    </tr>\n",
       "  </tbody>\n",
       "</table>\n",
       "</div>"
      ],
      "text/plain": [
       "   Customer_ID  Gender  Age  Vintage  Is_Active City_Category  \\\n",
       "0       264719       0   41       14          0            C1   \n",
       "1       264929       0   35       15          0            C2   \n",
       "\n",
       "  Customer_Category Product_Holding_B1 Product_Holding_B2  Customer_ID_bucket  \\\n",
       "0                S3              [P16]               [P8]                 265   \n",
       "1                S1              [P16]               [P8]                 265   \n",
       "\n",
       "  customer_bucket_popular_products  product_holding_P00  product_holding_P1  \\\n",
       "0        [P13, P16, P12, P21, P17]                    0                   0   \n",
       "1        [P13, P16, P12, P21, P17]                    0                   0   \n",
       "\n",
       "   product_holding_P10  product_holding_P11  product_holding_P12  \\\n",
       "0                    0                    0                    0   \n",
       "1                    0                    0                    0   \n",
       "\n",
       "   product_holding_P13  product_holding_P14  product_holding_P15  \\\n",
       "0                    0                    0                    0   \n",
       "1                    0                    0                    0   \n",
       "\n",
       "   product_holding_P16  product_holding_P17  product_holding_P18  \\\n",
       "0                    1                    0                    0   \n",
       "1                    1                    0                    0   \n",
       "\n",
       "   product_holding_P19  product_holding_P2  product_holding_P20  \\\n",
       "0                    0                   0                    0   \n",
       "1                    0                   0                    0   \n",
       "\n",
       "   product_holding_P21  product_holding_P3  product_holding_P4  \\\n",
       "0                    0                   0                   0   \n",
       "1                    0                   0                   0   \n",
       "\n",
       "   product_holding_P5  product_holding_P6  product_holding_P7  \\\n",
       "0                   0                   0                   0   \n",
       "1                   0                   0                   0   \n",
       "\n",
       "   product_holding_P8  product_holding_P9  customer_holding_P00  \\\n",
       "0                   0                   0                     0   \n",
       "1                   0                   0                     0   \n",
       "\n",
       "   customer_holding_P10  customer_holding_P11  customer_holding_P12  \\\n",
       "0                     0                     0                     1   \n",
       "1                     0                     0                     1   \n",
       "\n",
       "   customer_holding_P13  customer_holding_P15  customer_holding_P16  \\\n",
       "0                     1                     0                     1   \n",
       "1                     1                     0                     1   \n",
       "\n",
       "   customer_holding_P17  customer_holding_P18  customer_holding_P19  \\\n",
       "0                     1                     0                     0   \n",
       "1                     1                     0                     0   \n",
       "\n",
       "   customer_holding_P2  customer_holding_P20  customer_holding_P21  \\\n",
       "0                    0                     0                     1   \n",
       "1                    0                     0                     1   \n",
       "\n",
       "   customer_holding_P8  customer_holding_P9  \n",
       "0                    0                    0  \n",
       "1                    0                    0  "
      ]
     },
     "execution_count": 28,
     "metadata": {},
     "output_type": "execute_result"
    }
   ],
   "source": [
    "train.head(2)"
   ]
  },
  {
   "cell_type": "code",
   "execution_count": null,
   "id": "aa1b89a3",
   "metadata": {},
   "outputs": [],
   "source": []
  },
  {
   "cell_type": "code",
   "execution_count": 29,
   "id": "bb1061a4",
   "metadata": {},
   "outputs": [],
   "source": [
    "# store test data customer ids in a dataframe"
   ]
  },
  {
   "cell_type": "code",
   "execution_count": 30,
   "id": "af28b8c7",
   "metadata": {},
   "outputs": [],
   "source": [
    "temp_df = pd.DataFrame()"
   ]
  },
  {
   "cell_type": "code",
   "execution_count": 31,
   "id": "ba3069fe",
   "metadata": {},
   "outputs": [],
   "source": [
    "temp_df[\"Customer_ID_int\"] = train[train.Product_Holding_B2.isnull()][\"Customer_ID\"].values"
   ]
  },
  {
   "cell_type": "code",
   "execution_count": null,
   "id": "f6fac95c",
   "metadata": {},
   "outputs": [],
   "source": []
  },
  {
   "cell_type": "code",
   "execution_count": 32,
   "id": "7fb22ca5",
   "metadata": {},
   "outputs": [],
   "source": [
    "# store target column in a temp variable"
   ]
  },
  {
   "cell_type": "code",
   "execution_count": 33,
   "id": "ff3f0faa",
   "metadata": {},
   "outputs": [],
   "source": [
    "temp_target = train[\"Product_Holding_B2\"]"
   ]
  },
  {
   "cell_type": "code",
   "execution_count": null,
   "id": "ba6a28e0",
   "metadata": {},
   "outputs": [],
   "source": []
  },
  {
   "cell_type": "code",
   "execution_count": 34,
   "id": "39aeaafb",
   "metadata": {},
   "outputs": [],
   "source": [
    "cols_to_dummy = [\"City_Category\", \"Customer_Category\"]"
   ]
  },
  {
   "cell_type": "code",
   "execution_count": 35,
   "id": "9c2e575c",
   "metadata": {},
   "outputs": [],
   "source": [
    "cols_to_drop = [\"Customer_ID\", \"Product_Holding_B1\", \"Product_Holding_B2\", \"customer_bucket_popular_products\"]"
   ]
  },
  {
   "cell_type": "code",
   "execution_count": 36,
   "id": "8bbbb9eb",
   "metadata": {},
   "outputs": [],
   "source": [
    "train.drop(columns=cols_to_drop, axis=1, inplace=True)"
   ]
  },
  {
   "cell_type": "code",
   "execution_count": 37,
   "id": "1631f112",
   "metadata": {},
   "outputs": [],
   "source": [
    "train = pd.get_dummies(train, cols_to_dummy)"
   ]
  },
  {
   "cell_type": "code",
   "execution_count": 38,
   "id": "a40d1a9b",
   "metadata": {},
   "outputs": [],
   "source": [
    "train[\"Product_Holding_B2\"] = temp_target"
   ]
  },
  {
   "cell_type": "code",
   "execution_count": null,
   "id": "25b40af9",
   "metadata": {},
   "outputs": [],
   "source": []
  },
  {
   "cell_type": "code",
   "execution_count": 39,
   "id": "01161720",
   "metadata": {},
   "outputs": [],
   "source": [
    "test = train[train.Product_Holding_B2.isnull()].reset_index(drop=True)\n",
    "train = train[train.Product_Holding_B2.notnull()].reset_index(drop=True)"
   ]
  },
  {
   "cell_type": "code",
   "execution_count": 40,
   "id": "affa653e",
   "metadata": {},
   "outputs": [
    {
     "data": {
      "text/plain": [
       "((37748, 48), (20327, 48))"
      ]
     },
     "execution_count": 40,
     "metadata": {},
     "output_type": "execute_result"
    }
   ],
   "source": [
    "train.shape, test.shape"
   ]
  },
  {
   "cell_type": "code",
   "execution_count": 41,
   "id": "f026c49f",
   "metadata": {},
   "outputs": [],
   "source": [
    "train_X = train.drop(columns=[\"Product_Holding_B2\"])\n",
    "train_Y = train[\"Product_Holding_B2\"]"
   ]
  },
  {
   "cell_type": "code",
   "execution_count": 42,
   "id": "5c968736",
   "metadata": {},
   "outputs": [],
   "source": [
    "del test[\"Product_Holding_B2\"]"
   ]
  },
  {
   "cell_type": "code",
   "execution_count": 43,
   "id": "bd22d215",
   "metadata": {},
   "outputs": [
    {
     "data": {
      "text/plain": [
       "((37748, 47), (37748,))"
      ]
     },
     "execution_count": 43,
     "metadata": {},
     "output_type": "execute_result"
    }
   ],
   "source": [
    "train_X.shape, train_Y.shape"
   ]
  },
  {
   "cell_type": "code",
   "execution_count": 44,
   "id": "82a65175",
   "metadata": {},
   "outputs": [
    {
     "data": {
      "text/plain": [
       "(20327, 47)"
      ]
     },
     "execution_count": 44,
     "metadata": {},
     "output_type": "execute_result"
    }
   ],
   "source": [
    "test.shape"
   ]
  },
  {
   "cell_type": "code",
   "execution_count": null,
   "id": "98411d88",
   "metadata": {},
   "outputs": [],
   "source": []
  },
  {
   "cell_type": "code",
   "execution_count": null,
   "id": "5ad33b6d",
   "metadata": {},
   "outputs": [],
   "source": []
  },
  {
   "cell_type": "code",
   "execution_count": 45,
   "id": "95031967",
   "metadata": {},
   "outputs": [
    {
     "data": {
      "text/plain": [
       "MultiLabelBinarizer()"
      ]
     },
     "execution_count": 45,
     "metadata": {},
     "output_type": "execute_result"
    }
   ],
   "source": [
    "from sklearn.preprocessing import MultiLabelBinarizer\n",
    "\n",
    "multilabel_binarizer = MultiLabelBinarizer()\n",
    "multilabel_binarizer.fit(train_Y)"
   ]
  },
  {
   "cell_type": "code",
   "execution_count": 46,
   "id": "b3bc8bb2",
   "metadata": {},
   "outputs": [],
   "source": [
    "Y = multilabel_binarizer.transform(train_Y)"
   ]
  },
  {
   "cell_type": "code",
   "execution_count": 47,
   "id": "1fc45fd8",
   "metadata": {},
   "outputs": [
    {
     "data": {
      "text/plain": [
       "array(['P00', 'P1', 'P10', 'P11', 'P12', 'P13', 'P14', 'P15', 'P16',\n",
       "       'P17', 'P18', 'P2', 'P20', 'P3', 'P4', 'P5', 'P6', 'P7', 'P8',\n",
       "       'P9'], dtype=object)"
      ]
     },
     "execution_count": 47,
     "metadata": {},
     "output_type": "execute_result"
    }
   ],
   "source": [
    "multilabel_binarizer.classes_"
   ]
  },
  {
   "cell_type": "code",
   "execution_count": 48,
   "id": "9781fa6b",
   "metadata": {},
   "outputs": [],
   "source": [
    "mydict = {}\n",
    "for idx, x in enumerate(multilabel_binarizer.classes_) :\n",
    "    mydict[idx] = x"
   ]
  },
  {
   "cell_type": "code",
   "execution_count": null,
   "id": "5ea7366c",
   "metadata": {},
   "outputs": [],
   "source": []
  },
  {
   "cell_type": "code",
   "execution_count": 49,
   "id": "1e092846",
   "metadata": {},
   "outputs": [],
   "source": [
    "# nn model"
   ]
  },
  {
   "cell_type": "code",
   "execution_count": 50,
   "id": "7483e9f8",
   "metadata": {},
   "outputs": [
    {
     "name": "stderr",
     "output_type": "stream",
     "text": [
      "Using TensorFlow backend.\n"
     ]
    }
   ],
   "source": [
    "from sklearn.model_selection import RepeatedKFold\n",
    "from keras.models import Sequential\n",
    "from keras.layers import Dense\n",
    " \n",
    " \n",
    "# get the model\n",
    "def get_model(n_inputs, n_outputs):\n",
    "    model = Sequential()\n",
    "    model.add(Dense(48, input_dim=n_inputs, kernel_initializer='he_uniform', activation='tanh'))\n",
    "    model.add(Dense(96, kernel_initializer='he_uniform', activation='tanh'))\n",
    "    model.add(Dense(48, kernel_initializer='he_uniform', activation='tanh'))\n",
    "    model.add(Dense(n_outputs, activation='sigmoid'))\n",
    "    model.compile(loss='binary_crossentropy', optimizer='adam')\n",
    "    return model"
   ]
  },
  {
   "cell_type": "code",
   "execution_count": 51,
   "id": "8101f9f1",
   "metadata": {},
   "outputs": [],
   "source": [
    "n_inputs, n_outputs = train_X.shape[1], Y.shape[1]"
   ]
  },
  {
   "cell_type": "code",
   "execution_count": 52,
   "id": "ff09a7d6",
   "metadata": {},
   "outputs": [
    {
     "name": "stdout",
     "output_type": "stream",
     "text": [
      "WARNING:tensorflow:From /Users/deepak/Desktop/Libraries/virtual_envs/hackathon_env/lib/python3.6/site-packages/tensorflow_core/python/ops/resource_variable_ops.py:1630: calling BaseResourceVariable.__init__ (from tensorflow.python.ops.resource_variable_ops) with constraint is deprecated and will be removed in a future version.\n",
      "Instructions for updating:\n",
      "If using Keras pass *_constraint arguments to layers.\n",
      "WARNING:tensorflow:From /Users/deepak/Desktop/Libraries/virtual_envs/hackathon_env/lib/python3.6/site-packages/tensorflow_core/python/ops/nn_impl.py:183: where (from tensorflow.python.ops.array_ops) is deprecated and will be removed in a future version.\n",
      "Instructions for updating:\n",
      "Use tf.where in 2.0, which has the same broadcast rule as np.where\n",
      "Model: \"sequential_1\"\n",
      "_________________________________________________________________\n",
      "Layer (type)                 Output Shape              Param #   \n",
      "=================================================================\n",
      "dense_1 (Dense)              (None, 48)                2304      \n",
      "_________________________________________________________________\n",
      "dense_2 (Dense)              (None, 96)                4704      \n",
      "_________________________________________________________________\n",
      "dense_3 (Dense)              (None, 48)                4656      \n",
      "_________________________________________________________________\n",
      "dense_4 (Dense)              (None, 20)                980       \n",
      "=================================================================\n",
      "Total params: 12,644\n",
      "Trainable params: 12,644\n",
      "Non-trainable params: 0\n",
      "_________________________________________________________________\n",
      "None\n"
     ]
    }
   ],
   "source": [
    "model = get_model(n_inputs, n_outputs)\n",
    "print(model.summary())"
   ]
  },
  {
   "cell_type": "code",
   "execution_count": 53,
   "id": "58cc1a16",
   "metadata": {
    "scrolled": true
   },
   "outputs": [
    {
     "name": "stdout",
     "output_type": "stream",
     "text": [
      "WARNING:tensorflow:From /Users/deepak/Desktop/Libraries/virtual_envs/hackathon_env/lib/python3.6/site-packages/keras/backend/tensorflow_backend.py:422: The name tf.global_variables is deprecated. Please use tf.compat.v1.global_variables instead.\n",
      "\n",
      "Epoch 1/150\n",
      " - 2s - loss: 0.1849\n",
      "Epoch 2/150\n",
      " - 1s - loss: 0.1372\n",
      "Epoch 3/150\n",
      " - 1s - loss: 0.1130\n",
      "Epoch 4/150\n",
      " - 1s - loss: 0.1015\n",
      "Epoch 5/150\n",
      " - 1s - loss: 0.0972\n",
      "Epoch 6/150\n",
      " - 1s - loss: 0.0934\n",
      "Epoch 7/150\n",
      " - 2s - loss: 0.0914\n",
      "Epoch 8/150\n",
      " - 2s - loss: 0.0900\n",
      "Epoch 9/150\n",
      " - 2s - loss: 0.0889\n",
      "Epoch 10/150\n",
      " - 1s - loss: 0.0872\n",
      "Epoch 11/150\n",
      " - 1s - loss: 0.0862\n",
      "Epoch 12/150\n",
      " - 2s - loss: 0.0857\n",
      "Epoch 13/150\n",
      " - 2s - loss: 0.0849\n",
      "Epoch 14/150\n",
      " - 2s - loss: 0.0848\n",
      "Epoch 15/150\n",
      " - 2s - loss: 0.0844\n",
      "Epoch 16/150\n",
      " - 1s - loss: 0.0841\n",
      "Epoch 17/150\n",
      " - 1s - loss: 0.0835\n",
      "Epoch 18/150\n",
      " - 1s - loss: 0.0829\n",
      "Epoch 19/150\n",
      " - 1s - loss: 0.0822\n",
      "Epoch 20/150\n",
      " - 1s - loss: 0.0821\n",
      "Epoch 21/150\n",
      " - 1s - loss: 0.0820\n",
      "Epoch 22/150\n",
      " - 2s - loss: 0.0816\n",
      "Epoch 23/150\n",
      " - 1s - loss: 0.0813\n",
      "Epoch 24/150\n",
      " - 1s - loss: 0.0809\n",
      "Epoch 25/150\n",
      " - 1s - loss: 0.0808\n",
      "Epoch 26/150\n",
      " - 1s - loss: 0.0808\n",
      "Epoch 27/150\n",
      " - 1s - loss: 0.0808\n",
      "Epoch 28/150\n",
      " - 1s - loss: 0.0805\n",
      "Epoch 29/150\n",
      " - 1s - loss: 0.0807\n",
      "Epoch 30/150\n",
      " - 1s - loss: 0.0804\n",
      "Epoch 31/150\n",
      " - 1s - loss: 0.0799\n",
      "Epoch 32/150\n",
      " - 1s - loss: 0.0796\n",
      "Epoch 33/150\n",
      " - 2s - loss: 0.0801\n",
      "Epoch 34/150\n",
      " - 2s - loss: 0.0797\n",
      "Epoch 35/150\n",
      " - 2s - loss: 0.0802\n",
      "Epoch 36/150\n",
      " - 2s - loss: 0.0801\n",
      "Epoch 37/150\n",
      " - 2s - loss: 0.0797\n",
      "Epoch 38/150\n",
      " - 2s - loss: 0.0790\n",
      "Epoch 39/150\n",
      " - 1s - loss: 0.0796\n",
      "Epoch 40/150\n",
      " - 1s - loss: 0.0798\n",
      "Epoch 41/150\n",
      " - 1s - loss: 0.0791\n",
      "Epoch 42/150\n",
      " - 1s - loss: 0.0791\n",
      "Epoch 43/150\n",
      " - 1s - loss: 0.0802\n",
      "Epoch 44/150\n",
      " - 1s - loss: 0.0790\n",
      "Epoch 45/150\n",
      " - 1s - loss: 0.0794\n",
      "Epoch 46/150\n",
      " - 1s - loss: 0.0790\n",
      "Epoch 47/150\n",
      " - 1s - loss: 0.0796\n",
      "Epoch 48/150\n",
      " - 1s - loss: 0.0786\n",
      "Epoch 49/150\n",
      " - 1s - loss: 0.0785\n",
      "Epoch 50/150\n",
      " - 1s - loss: 0.0788\n",
      "Epoch 51/150\n",
      " - 1s - loss: 0.0786\n",
      "Epoch 52/150\n",
      " - 1s - loss: 0.0794\n",
      "Epoch 53/150\n",
      " - 1s - loss: 0.0788\n",
      "Epoch 54/150\n",
      " - 1s - loss: 0.0788\n",
      "Epoch 55/150\n",
      " - 1s - loss: 0.0785\n",
      "Epoch 56/150\n",
      " - 1s - loss: 0.0787\n",
      "Epoch 57/150\n",
      " - 1s - loss: 0.0783\n",
      "Epoch 58/150\n",
      " - 1s - loss: 0.0784\n",
      "Epoch 59/150\n",
      " - 1s - loss: 0.0789\n",
      "Epoch 60/150\n",
      " - 1s - loss: 0.0783\n",
      "Epoch 61/150\n",
      " - 1s - loss: 0.0784\n",
      "Epoch 62/150\n",
      " - 1s - loss: 0.0787\n",
      "Epoch 63/150\n",
      " - 1s - loss: 0.0787\n",
      "Epoch 64/150\n",
      " - 1s - loss: 0.0789\n",
      "Epoch 65/150\n",
      " - 2s - loss: 0.0779\n",
      "Epoch 66/150\n",
      " - 1s - loss: 0.0788\n",
      "Epoch 67/150\n",
      " - 1s - loss: 0.0782\n",
      "Epoch 68/150\n",
      " - 2s - loss: 0.0781\n",
      "Epoch 69/150\n",
      " - 2s - loss: 0.0786\n",
      "Epoch 70/150\n",
      " - 2s - loss: 0.0782\n",
      "Epoch 71/150\n",
      " - 2s - loss: 0.0787\n",
      "Epoch 72/150\n",
      " - 2s - loss: 0.0777\n",
      "Epoch 73/150\n",
      " - 2s - loss: 0.0784\n",
      "Epoch 74/150\n",
      " - 2s - loss: 0.0786\n",
      "Epoch 75/150\n",
      " - 2s - loss: 0.0783\n",
      "Epoch 76/150\n",
      " - 2s - loss: 0.0779\n",
      "Epoch 77/150\n",
      " - 2s - loss: 0.0779\n",
      "Epoch 78/150\n",
      " - 2s - loss: 0.0783\n",
      "Epoch 79/150\n",
      " - 2s - loss: 0.0782\n",
      "Epoch 80/150\n",
      " - 2s - loss: 0.0778\n",
      "Epoch 81/150\n",
      " - 2s - loss: 0.0777\n",
      "Epoch 82/150\n",
      " - 2s - loss: 0.0781\n",
      "Epoch 83/150\n",
      " - 2s - loss: 0.0780\n",
      "Epoch 84/150\n",
      " - 2s - loss: 0.0775\n",
      "Epoch 85/150\n",
      " - 2s - loss: 0.0778\n",
      "Epoch 86/150\n",
      " - 2s - loss: 0.0778\n",
      "Epoch 87/150\n",
      " - 2s - loss: 0.0775\n",
      "Epoch 88/150\n",
      " - 2s - loss: 0.0779\n",
      "Epoch 89/150\n",
      " - 2s - loss: 0.0778\n",
      "Epoch 90/150\n",
      " - 2s - loss: 0.0781\n",
      "Epoch 91/150\n",
      " - 2s - loss: 0.0781\n",
      "Epoch 92/150\n",
      " - 2s - loss: 0.0777\n",
      "Epoch 93/150\n",
      " - 2s - loss: 0.0777\n",
      "Epoch 94/150\n",
      " - 2s - loss: 0.0774\n",
      "Epoch 95/150\n",
      " - 2s - loss: 0.0776\n",
      "Epoch 96/150\n",
      " - 2s - loss: 0.0781\n",
      "Epoch 97/150\n",
      " - 2s - loss: 0.0774\n",
      "Epoch 98/150\n",
      " - 2s - loss: 0.0777\n",
      "Epoch 99/150\n",
      " - 2s - loss: 0.0770\n",
      "Epoch 100/150\n",
      " - 2s - loss: 0.0777\n",
      "Epoch 101/150\n",
      " - 2s - loss: 0.0772\n",
      "Epoch 102/150\n",
      " - 2s - loss: 0.0772\n",
      "Epoch 103/150\n",
      " - 2s - loss: 0.0777\n",
      "Epoch 104/150\n",
      " - 2s - loss: 0.0777\n",
      "Epoch 105/150\n",
      " - 2s - loss: 0.0776\n",
      "Epoch 106/150\n",
      " - 2s - loss: 0.0776\n",
      "Epoch 107/150\n",
      " - 2s - loss: 0.0777\n",
      "Epoch 108/150\n",
      " - 2s - loss: 0.0781\n",
      "Epoch 109/150\n",
      " - 2s - loss: 0.0771\n",
      "Epoch 110/150\n",
      " - 2s - loss: 0.0773\n",
      "Epoch 111/150\n",
      " - 2s - loss: 0.0774\n",
      "Epoch 112/150\n",
      " - 2s - loss: 0.0774\n",
      "Epoch 113/150\n",
      " - 2s - loss: 0.0772\n",
      "Epoch 114/150\n",
      " - 2s - loss: 0.0772\n",
      "Epoch 115/150\n",
      " - 2s - loss: 0.0777\n",
      "Epoch 116/150\n",
      " - 2s - loss: 0.0774\n",
      "Epoch 117/150\n",
      " - 2s - loss: 0.0777\n",
      "Epoch 118/150\n",
      " - 2s - loss: 0.0780\n",
      "Epoch 119/150\n",
      " - 2s - loss: 0.0769\n",
      "Epoch 120/150\n",
      " - 2s - loss: 0.0769\n",
      "Epoch 121/150\n",
      " - 2s - loss: 0.0777\n",
      "Epoch 122/150\n",
      " - 2s - loss: 0.0771\n",
      "Epoch 123/150\n",
      " - 2s - loss: 0.0772\n",
      "Epoch 124/150\n",
      " - 2s - loss: 0.0769\n",
      "Epoch 125/150\n",
      " - 2s - loss: 0.0771\n",
      "Epoch 126/150\n",
      " - 2s - loss: 0.0779\n",
      "Epoch 127/150\n",
      " - 2s - loss: 0.0774\n",
      "Epoch 128/150\n",
      " - 2s - loss: 0.0771\n",
      "Epoch 129/150\n",
      " - 2s - loss: 0.0771\n",
      "Epoch 130/150\n",
      " - 2s - loss: 0.0770\n",
      "Epoch 131/150\n",
      " - 2s - loss: 0.0775\n",
      "Epoch 132/150\n",
      " - 2s - loss: 0.0773\n",
      "Epoch 133/150\n",
      " - 2s - loss: 0.0767\n",
      "Epoch 134/150\n",
      " - 2s - loss: 0.0776\n",
      "Epoch 135/150\n",
      " - 2s - loss: 0.0767\n",
      "Epoch 136/150\n",
      " - 2s - loss: 0.0774\n",
      "Epoch 137/150\n",
      " - 3s - loss: 0.0773\n",
      "Epoch 138/150\n",
      " - 3s - loss: 0.0772\n",
      "Epoch 139/150\n",
      " - 3s - loss: 0.0773\n",
      "Epoch 140/150\n",
      " - 3s - loss: 0.0773\n",
      "Epoch 141/150\n",
      " - 3s - loss: 0.0768\n",
      "Epoch 142/150\n",
      " - 3s - loss: 0.0771\n",
      "Epoch 143/150\n",
      " - 3s - loss: 0.0771\n",
      "Epoch 144/150\n",
      " - 3s - loss: 0.0771\n",
      "Epoch 145/150\n",
      " - 3s - loss: 0.0778\n",
      "Epoch 146/150\n",
      " - 3s - loss: 0.0780\n",
      "Epoch 147/150\n",
      " - 3s - loss: 0.0772\n",
      "Epoch 148/150\n",
      " - 3s - loss: 0.0771\n",
      "Epoch 149/150\n",
      " - 3s - loss: 0.0768\n",
      "Epoch 150/150\n",
      " - 3s - loss: 0.0772\n"
     ]
    },
    {
     "data": {
      "text/plain": [
       "<keras.callbacks.callbacks.History at 0x7fda75ac6b70>"
      ]
     },
     "execution_count": 53,
     "metadata": {},
     "output_type": "execute_result"
    }
   ],
   "source": [
    "model.fit(train_X, Y, verbose=2, epochs=150)"
   ]
  },
  {
   "cell_type": "code",
   "execution_count": 54,
   "id": "d5f0e603",
   "metadata": {},
   "outputs": [],
   "source": [
    "res_nn = model.predict(test)"
   ]
  },
  {
   "cell_type": "code",
   "execution_count": null,
   "id": "fd30f524",
   "metadata": {},
   "outputs": [],
   "source": []
  },
  {
   "cell_type": "code",
   "execution_count": 55,
   "id": "b2ceaded",
   "metadata": {},
   "outputs": [],
   "source": [
    "# multichain lightgbm"
   ]
  },
  {
   "cell_type": "code",
   "execution_count": 56,
   "id": "f24cea10",
   "metadata": {},
   "outputs": [],
   "source": [
    "import lightgbm as lgbm"
   ]
  },
  {
   "cell_type": "code",
   "execution_count": 57,
   "id": "41ce63a6",
   "metadata": {},
   "outputs": [],
   "source": [
    "from skmultilearn.problem_transform import ClassifierChain"
   ]
  },
  {
   "cell_type": "code",
   "execution_count": 58,
   "id": "578c4736",
   "metadata": {},
   "outputs": [],
   "source": [
    "classifier = ClassifierChain(lgbm.LGBMClassifier())"
   ]
  },
  {
   "cell_type": "code",
   "execution_count": 59,
   "id": "a8f096e4",
   "metadata": {},
   "outputs": [
    {
     "data": {
      "text/plain": [
       "ClassifierChain(classifier=LGBMClassifier(), require_dense=[True, True])"
      ]
     },
     "execution_count": 59,
     "metadata": {},
     "output_type": "execute_result"
    }
   ],
   "source": [
    "classifier.fit(train_X, Y)"
   ]
  },
  {
   "cell_type": "code",
   "execution_count": 60,
   "id": "79acb569",
   "metadata": {},
   "outputs": [],
   "source": [
    "res_lfm = classifier.predict_proba(test)"
   ]
  },
  {
   "cell_type": "code",
   "execution_count": 61,
   "id": "f28e7e41",
   "metadata": {},
   "outputs": [],
   "source": [
    "res_lfm = res_lfm.toarray()"
   ]
  },
  {
   "cell_type": "code",
   "execution_count": 62,
   "id": "f5e02299",
   "metadata": {},
   "outputs": [
    {
     "data": {
      "text/plain": [
       "(20327, 20)"
      ]
     },
     "execution_count": 62,
     "metadata": {},
     "output_type": "execute_result"
    }
   ],
   "source": [
    "res_lfm.shape"
   ]
  },
  {
   "cell_type": "code",
   "execution_count": null,
   "id": "f2eb2e12",
   "metadata": {},
   "outputs": [],
   "source": []
  },
  {
   "cell_type": "code",
   "execution_count": 63,
   "id": "ac88bbdc",
   "metadata": {},
   "outputs": [],
   "source": [
    "# randomforest for multi label"
   ]
  },
  {
   "cell_type": "code",
   "execution_count": 64,
   "id": "71d6f377",
   "metadata": {},
   "outputs": [],
   "source": [
    "from sklearn.ensemble import RandomForestRegressor"
   ]
  },
  {
   "cell_type": "code",
   "execution_count": 65,
   "id": "3f2c9d37",
   "metadata": {},
   "outputs": [],
   "source": [
    "model = RandomForestRegressor()"
   ]
  },
  {
   "cell_type": "code",
   "execution_count": 66,
   "id": "c4f1ee3f",
   "metadata": {},
   "outputs": [
    {
     "data": {
      "text/plain": [
       "RandomForestRegressor()"
      ]
     },
     "execution_count": 66,
     "metadata": {},
     "output_type": "execute_result"
    }
   ],
   "source": [
    "model.fit(train_X, Y)"
   ]
  },
  {
   "cell_type": "code",
   "execution_count": 67,
   "id": "53e2e727",
   "metadata": {},
   "outputs": [],
   "source": [
    "res_rf = model.predict(test)"
   ]
  },
  {
   "cell_type": "code",
   "execution_count": 68,
   "id": "6f1134dd",
   "metadata": {},
   "outputs": [
    {
     "data": {
      "text/plain": [
       "(20327, 20)"
      ]
     },
     "execution_count": 68,
     "metadata": {},
     "output_type": "execute_result"
    }
   ],
   "source": [
    "res_rf.shape"
   ]
  },
  {
   "cell_type": "code",
   "execution_count": null,
   "id": "7d5966af",
   "metadata": {},
   "outputs": [],
   "source": []
  },
  {
   "cell_type": "code",
   "execution_count": 69,
   "id": "c8fbad97",
   "metadata": {},
   "outputs": [],
   "source": [
    "res = (res_lfm * 0.4)  + (res_nn * 0.3) + (res_rf * 0.3)"
   ]
  },
  {
   "cell_type": "code",
   "execution_count": null,
   "id": "a10deba4",
   "metadata": {},
   "outputs": [],
   "source": []
  },
  {
   "cell_type": "code",
   "execution_count": 70,
   "id": "1f602843",
   "metadata": {},
   "outputs": [],
   "source": [
    "res_list = []\n",
    "for x in res:\n",
    "    res_list.append(list(x.argsort()[-3:][::-1]))"
   ]
  },
  {
   "cell_type": "code",
   "execution_count": 71,
   "id": "bb6ca71c",
   "metadata": {},
   "outputs": [],
   "source": [
    "mydict = {}\n",
    "for idx, x in enumerate(multilabel_binarizer.classes_) :\n",
    "    mydict[idx] = x"
   ]
  },
  {
   "cell_type": "code",
   "execution_count": null,
   "id": "f483f78f",
   "metadata": {},
   "outputs": [],
   "source": []
  },
  {
   "cell_type": "code",
   "execution_count": 72,
   "id": "c63a9648",
   "metadata": {},
   "outputs": [],
   "source": [
    "predictions = pd.DataFrame()"
   ]
  },
  {
   "cell_type": "code",
   "execution_count": 73,
   "id": "fea4cd2c",
   "metadata": {},
   "outputs": [],
   "source": [
    "predictions[\"labels\"] = res_list"
   ]
  },
  {
   "cell_type": "code",
   "execution_count": 74,
   "id": "9174c818",
   "metadata": {},
   "outputs": [],
   "source": [
    "predictions.labels = predictions.labels.apply(lambda x : [mydict[a] for a in x])"
   ]
  },
  {
   "cell_type": "code",
   "execution_count": 75,
   "id": "b1514bdc",
   "metadata": {},
   "outputs": [
    {
     "data": {
      "text/html": [
       "<div>\n",
       "<style scoped>\n",
       "    .dataframe tbody tr th:only-of-type {\n",
       "        vertical-align: middle;\n",
       "    }\n",
       "\n",
       "    .dataframe tbody tr th {\n",
       "        vertical-align: top;\n",
       "    }\n",
       "\n",
       "    .dataframe thead th {\n",
       "        text-align: right;\n",
       "    }\n",
       "</style>\n",
       "<table border=\"1\" class=\"dataframe\">\n",
       "  <thead>\n",
       "    <tr style=\"text-align: right;\">\n",
       "      <th></th>\n",
       "      <th>labels</th>\n",
       "    </tr>\n",
       "  </thead>\n",
       "  <tbody>\n",
       "    <tr>\n",
       "      <th>0</th>\n",
       "      <td>[P8, P9, P10]</td>\n",
       "    </tr>\n",
       "    <tr>\n",
       "      <th>1</th>\n",
       "      <td>[P6, P7, P4]</td>\n",
       "    </tr>\n",
       "  </tbody>\n",
       "</table>\n",
       "</div>"
      ],
      "text/plain": [
       "          labels\n",
       "0  [P8, P9, P10]\n",
       "1   [P6, P7, P4]"
      ]
     },
     "execution_count": 75,
     "metadata": {},
     "output_type": "execute_result"
    }
   ],
   "source": [
    "predictions.head(2)"
   ]
  },
  {
   "cell_type": "code",
   "execution_count": null,
   "id": "8f3ccbbb",
   "metadata": {},
   "outputs": [],
   "source": []
  },
  {
   "cell_type": "code",
   "execution_count": 76,
   "id": "61971c6a",
   "metadata": {},
   "outputs": [],
   "source": [
    "submission = pd.read_csv(\"../data/sample_submission_kF044ur.csv\")"
   ]
  },
  {
   "cell_type": "code",
   "execution_count": 77,
   "id": "4a03ab7a",
   "metadata": {},
   "outputs": [],
   "source": [
    "del submission[\"Product_Holding_B2\"]"
   ]
  },
  {
   "cell_type": "code",
   "execution_count": null,
   "id": "03cc31af",
   "metadata": {},
   "outputs": [],
   "source": []
  },
  {
   "cell_type": "code",
   "execution_count": 78,
   "id": "cc399f75",
   "metadata": {},
   "outputs": [],
   "source": [
    "temp_df[\"Product_Holding_B2\"] = predictions[\"labels\"]"
   ]
  },
  {
   "cell_type": "code",
   "execution_count": 79,
   "id": "ac0c2582",
   "metadata": {},
   "outputs": [],
   "source": [
    "temp_df[\"Customer_ID\"] = temp_df[\"Customer_ID_int\"].apply(lambda x : \"CC\" + str(x))"
   ]
  },
  {
   "cell_type": "code",
   "execution_count": null,
   "id": "d000f3f9",
   "metadata": {},
   "outputs": [],
   "source": []
  },
  {
   "cell_type": "code",
   "execution_count": 80,
   "id": "a7676ebc",
   "metadata": {},
   "outputs": [],
   "source": [
    "submission = submission.merge(temp_df, on=\"Customer_ID\")"
   ]
  },
  {
   "cell_type": "code",
   "execution_count": 81,
   "id": "b5cebfab",
   "metadata": {},
   "outputs": [
    {
     "data": {
      "text/html": [
       "<div>\n",
       "<style scoped>\n",
       "    .dataframe tbody tr th:only-of-type {\n",
       "        vertical-align: middle;\n",
       "    }\n",
       "\n",
       "    .dataframe tbody tr th {\n",
       "        vertical-align: top;\n",
       "    }\n",
       "\n",
       "    .dataframe thead th {\n",
       "        text-align: right;\n",
       "    }\n",
       "</style>\n",
       "<table border=\"1\" class=\"dataframe\">\n",
       "  <thead>\n",
       "    <tr style=\"text-align: right;\">\n",
       "      <th></th>\n",
       "      <th>Customer_ID</th>\n",
       "      <th>Customer_ID_int</th>\n",
       "      <th>Product_Holding_B2</th>\n",
       "    </tr>\n",
       "  </thead>\n",
       "  <tbody>\n",
       "    <tr>\n",
       "      <th>0</th>\n",
       "      <td>CC372708</td>\n",
       "      <td>372708</td>\n",
       "      <td>[P10, P4, P5]</td>\n",
       "    </tr>\n",
       "    <tr>\n",
       "      <th>1</th>\n",
       "      <td>CC216072</td>\n",
       "      <td>216072</td>\n",
       "      <td>[P8, P1, P6]</td>\n",
       "    </tr>\n",
       "    <tr>\n",
       "      <th>2</th>\n",
       "      <td>CC387629</td>\n",
       "      <td>387629</td>\n",
       "      <td>[P16, P13, P1]</td>\n",
       "    </tr>\n",
       "    <tr>\n",
       "      <th>3</th>\n",
       "      <td>CC389228</td>\n",
       "      <td>389228</td>\n",
       "      <td>[P4, P10, P5]</td>\n",
       "    </tr>\n",
       "    <tr>\n",
       "      <th>4</th>\n",
       "      <td>CC394445</td>\n",
       "      <td>394445</td>\n",
       "      <td>[P00, P1, P4]</td>\n",
       "    </tr>\n",
       "    <tr>\n",
       "      <th>...</th>\n",
       "      <td>...</td>\n",
       "      <td>...</td>\n",
       "      <td>...</td>\n",
       "    </tr>\n",
       "    <tr>\n",
       "      <th>20322</th>\n",
       "      <td>CC303542</td>\n",
       "      <td>303542</td>\n",
       "      <td>[P8, P6, P7]</td>\n",
       "    </tr>\n",
       "    <tr>\n",
       "      <th>20323</th>\n",
       "      <td>CC266713</td>\n",
       "      <td>266713</td>\n",
       "      <td>[P8, P6, P7]</td>\n",
       "    </tr>\n",
       "    <tr>\n",
       "      <th>20324</th>\n",
       "      <td>CC393639</td>\n",
       "      <td>393639</td>\n",
       "      <td>[P00, P1, P4]</td>\n",
       "    </tr>\n",
       "    <tr>\n",
       "      <th>20325</th>\n",
       "      <td>CC285013</td>\n",
       "      <td>285013</td>\n",
       "      <td>[P1, P7, P6]</td>\n",
       "    </tr>\n",
       "    <tr>\n",
       "      <th>20326</th>\n",
       "      <td>CC274657</td>\n",
       "      <td>274657</td>\n",
       "      <td>[P8, P7, P6]</td>\n",
       "    </tr>\n",
       "  </tbody>\n",
       "</table>\n",
       "<p>20327 rows × 3 columns</p>\n",
       "</div>"
      ],
      "text/plain": [
       "      Customer_ID  Customer_ID_int Product_Holding_B2\n",
       "0        CC372708           372708      [P10, P4, P5]\n",
       "1        CC216072           216072       [P8, P1, P6]\n",
       "2        CC387629           387629     [P16, P13, P1]\n",
       "3        CC389228           389228      [P4, P10, P5]\n",
       "4        CC394445           394445      [P00, P1, P4]\n",
       "...           ...              ...                ...\n",
       "20322    CC303542           303542       [P8, P6, P7]\n",
       "20323    CC266713           266713       [P8, P6, P7]\n",
       "20324    CC393639           393639      [P00, P1, P4]\n",
       "20325    CC285013           285013       [P1, P7, P6]\n",
       "20326    CC274657           274657       [P8, P7, P6]\n",
       "\n",
       "[20327 rows x 3 columns]"
      ]
     },
     "execution_count": 81,
     "metadata": {},
     "output_type": "execute_result"
    }
   ],
   "source": [
    "submission"
   ]
  },
  {
   "cell_type": "code",
   "execution_count": 82,
   "id": "72711b55",
   "metadata": {},
   "outputs": [],
   "source": [
    "submission = submission[[\"Customer_ID\", \"Product_Holding_B2\"]]"
   ]
  },
  {
   "cell_type": "code",
   "execution_count": 83,
   "id": "ae4ddb6c",
   "metadata": {},
   "outputs": [],
   "source": [
    "submission.to_csv(\"../submission/17_b.csv\", index=False)"
   ]
  },
  {
   "cell_type": "code",
   "execution_count": null,
   "id": "f20fb7ea",
   "metadata": {},
   "outputs": [],
   "source": []
  }
 ],
 "metadata": {
  "kernelspec": {
   "display_name": "hackathon_env",
   "language": "python",
   "name": "hackathon_env"
  },
  "language_info": {
   "codemirror_mode": {
    "name": "ipython",
    "version": 3
   },
   "file_extension": ".py",
   "mimetype": "text/x-python",
   "name": "python",
   "nbconvert_exporter": "python",
   "pygments_lexer": "ipython3",
   "version": "3.6.8"
  }
 },
 "nbformat": 4,
 "nbformat_minor": 5
}
